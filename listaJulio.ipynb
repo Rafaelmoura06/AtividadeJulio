{
  "cells": [
    {
      "cell_type": "markdown",
      "metadata": {
        "id": "view-in-github",
        "colab_type": "text"
      },
      "source": [
        "<a href=\"https://colab.research.google.com/github/Rafaelmoura06/AtividadeJulio/blob/master/listaJulio.ipynb\" target=\"_parent\"><img src=\"https://colab.research.google.com/assets/colab-badge.svg\" alt=\"Open In Colab\"/></a>"
      ]
    },
    {
      "cell_type": "markdown",
      "metadata": {
        "id": "CvtHHWiJPX4E"
      },
      "source": [
        "**LISTA - Julio**\n"
      ]
    },
    {
      "cell_type": "markdown",
      "metadata": {
        "id": "Onp1G_bLD63-"
      },
      "source": [
        "31"
      ]
    },
    {
      "cell_type": "code",
      "execution_count": null,
      "metadata": {
        "colab": {
          "base_uri": "https://localhost:8080/"
        },
        "id": "grGvi9fwNDc3",
        "outputId": "f4e7e2ad-0bc5-4321-f544-76724e87e11e"
      },
      "outputs": [
        {
          "name": "stdout",
          "output_type": "stream",
          "text": [
            "Soma linha 3: 65\n",
            "Soma coluna 2: 60\n",
            "Soma diagonal principal: 65\n",
            "Soma diagonal secundária: 65\n",
            "Soma todos os elementos: 325\n"
          ]
        }
      ],
      "source": [
        "def somar_linha_3(M):\n",
        "    return sum(M[2])\n",
        "\n",
        "def somar_coluna_2(M):\n",
        "    return sum([M[i][1] for i in range(5)])\n",
        "\n",
        "def somar_diagonal_principal(M):\n",
        "    return sum(M[i][i] for i in range(5))\n",
        "\n",
        "def somar_diagonal_secundaria(M):\n",
        "    return sum(M[i][4-i] for i in range(5))\n",
        "\n",
        "def somar_todos_elementos(M):\n",
        "    return sum(sum(linha) for linha in M)\n",
        "\n",
        "print(\"Soma linha 3:\", somar_linha_3(M))\n",
        "print(\"Soma coluna 2:\", somar_coluna_2(M))\n",
        "print(\"Soma diagonal principal:\", somar_diagonal_principal(M))\n",
        "print(\"Soma diagonal secundária:\", somar_diagonal_secundaria(M))\n",
        "print(\"Soma todos os elementos:\", somar_todos_elementos(M))\n"
      ]
    },
    {
      "cell_type": "markdown",
      "metadata": {
        "id": "IJFSwxkrD3Tl"
      },
      "source": [
        "32"
      ]
    },
    {
      "cell_type": "code",
      "execution_count": null,
      "metadata": {
        "colab": {
          "base_uri": "https://localhost:8080/"
        },
        "id": "hOsvXFvdNc6W",
        "outputId": "cb5e5ae1-543d-4a84-8d4c-2bfb556cad6e"
      },
      "outputs": [
        {
          "name": "stdout",
          "output_type": "stream",
          "text": [
            "Soma das matrizes A e B:\n",
            "[25, 25, 25, 25, 25, 25]\n",
            "[25, 25, 25, 25, 25, 25]\n",
            "[25, 25, 25, 25, 25, 25]\n",
            "[25, 25, 25, 25, 25, 25]\n",
            "Subtração das matrizes A e B:\n",
            "[-23, -21, -19, -17, -15, -13]\n",
            "[-11, -9, -7, -5, -3, -1]\n",
            "[1, 3, 5, 7, 9, 11]\n",
            "[13, 15, 17, 19, 21, 23]\n"
          ]
        }
      ],
      "source": [
        "def somar_matrizes(A, B):\n",
        "    return [[A[i][j] + B[i][j] for j in range(len(A[0]))] for i in range(len(A))]\n",
        "\n",
        "def subtrair_matrizes(A, B):\n",
        "    return [[A[i][j] - B[i][j] for j in range(len(A[0]))] for i in range(len(A))]\n",
        "\n",
        "\n",
        "A = [\n",
        "    [1, 2, 3, 4, 5, 6],\n",
        "    [7, 8, 9, 10, 11, 12],\n",
        "    [13, 14, 15, 16, 17, 18],\n",
        "    [19, 20, 21, 22, 23, 24]\n",
        "]\n",
        "\n",
        "B = [\n",
        "    [24, 23, 22, 21, 20, 19],\n",
        "    [18, 17, 16, 15, 14, 13],\n",
        "    [12, 11, 10, 9, 8, 7],\n",
        "    [6, 5, 4, 3, 2, 1]\n",
        "]\n",
        "\n",
        "S = somar_matrizes(A, B)\n",
        "D = subtrair_matrizes(A, B)\n",
        "\n",
        "print(\"Soma das matrizes A e B:\")\n",
        "for linha in S:\n",
        "    print(linha)\n",
        "\n",
        "print(\"Subtração das matrizes A e B:\")\n",
        "for linha in D:\n",
        "    print(linha)\n"
      ]
    },
    {
      "cell_type": "markdown",
      "metadata": {
        "id": "fKtO-qr0Dzp5"
      },
      "source": [
        "33"
      ]
    },
    {
      "cell_type": "code",
      "execution_count": null,
      "metadata": {
        "colab": {
          "base_uri": "https://localhost:8080/"
        },
        "id": "31CbNVoONr9m",
        "outputId": "afcc8a8c-2dec-414c-ad72-ef7b5a670023"
      },
      "outputs": [
        {
          "name": "stdout",
          "output_type": "stream",
          "text": [
            "Soma dos elementos X: 68\n"
          ]
        }
      ],
      "source": [
        "def somar_elementos_X(M):\n",
        "    soma = 0\n",
        "    for i in range(4):\n",
        "        for j in range(4):\n",
        "            if (i == j) or (i + j == 3):\n",
        "                soma += M[i][j]\n",
        "    return soma\n",
        "\n",
        "M = [\n",
        "    [1, 2, 3, 4],\n",
        "    [5, 6, 7, 8],\n",
        "    [9, 10, 11, 12],\n",
        "    [13, 14, 15, 16]\n",
        "]\n",
        "\n",
        "print(\"Soma dos elementos X:\", somar_elementos_X(M))\n",
        "\n"
      ]
    },
    {
      "cell_type": "code",
      "execution_count": null,
      "metadata": {
        "id": "Nh5deIT_Dvit"
      },
      "outputs": [],
      "source": []
    },
    {
      "cell_type": "markdown",
      "metadata": {
        "id": "Q62g6XDiDtfA"
      },
      "source": [
        "34"
      ]
    },
    {
      "cell_type": "code",
      "execution_count": null,
      "metadata": {
        "colab": {
          "base_uri": "https://localhost:8080/"
        },
        "id": "syH0-fSiOXzF",
        "outputId": "fa1cfe9a-6ef1-44c1-e8cc-992c62b9c104"
      },
      "outputs": [
        {
          "name": "stdout",
          "output_type": "stream",
          "text": [
            "O número 13 existe na matriz? True\n"
          ]
        }
      ],
      "source": [
        "def verificar_elemento(M, X):\n",
        "    for linha in M:\n",
        "        if X in linha:\n",
        "            return True\n",
        "    return False\n",
        "\n",
        "M = [\n",
        "    [1, 2, 3, 4, 5],\n",
        "    [6, 7, 8, 9, 10],\n",
        "    [11, 12, 13, 14, 15],\n",
        "    [16, 17, 18, 19, 20],\n",
        "    [21, 22, 23, 24, 25]\n",
        "]\n",
        "\n",
        "X = 13\n",
        "print(\"O número\", X, \"existe na matriz?\", verificar_elemento(M, X))\n"
      ]
    },
    {
      "cell_type": "markdown",
      "metadata": {
        "id": "i-1S_Jhmfj_l"
      },
      "source": [
        "35\n"
      ]
    },
    {
      "cell_type": "code",
      "execution_count": null,
      "metadata": {
        "colab": {
          "base_uri": "https://localhost:8080/"
        },
        "id": "uUD73ApQOoid",
        "outputId": "e6c01e94-628e-4446-b73c-b4411f674f24"
      },
      "outputs": [
        {
          "name": "stdout",
          "output_type": "stream",
          "text": [
            "Soma das linhas: [15, 40, 65, 90, 115]\n",
            "Soma das colunas: [55, 60, 65, 70, 75]\n"
          ]
        }
      ],
      "source": [
        "def somar_linhas_colunas(G):\n",
        "    SL = [sum(linha) for linha in G]\n",
        "    SC = [sum(G[i][j] for i in range(5)) for j in range(5)]\n",
        "    return SL, SC\n",
        "\n",
        "G = [\n",
        "    [1, 2, 3, 4, 5],\n",
        "    [6, 7, 8, 9, 10],\n",
        "    [11, 12, 13, 14, 15],\n",
        "    [16, 17, 18, 19, 20],\n",
        "    [21, 22, 23, 24, 25]\n",
        "]\n",
        "\n",
        "SL, SC = somar_linhas_colunas(G)\n",
        "\n",
        "print(\"Soma das linhas:\", SL)\n",
        "print(\"Soma das colunas:\", SC)\n"
      ]
    },
    {
      "cell_type": "markdown",
      "metadata": {
        "id": "nD89PfD3ReCC"
      },
      "source": [
        "37"
      ]
    },
    {
      "cell_type": "code",
      "execution_count": null,
      "metadata": {
        "colab": {
          "base_uri": "https://localhost:8080/"
        },
        "id": "avDX-O85PoA8",
        "outputId": "d1060d98-3984-4f19-d16f-09c92f84299d"
      },
      "outputs": [
        {
          "name": "stdout",
          "output_type": "stream",
          "text": [
            "Número de pontos obtidos: 5\n"
          ]
        }
      ],
      "source": [
        "def calcular_pontos(gabarito, aposta):\n",
        "    pontos = 0\n",
        "    for i in range(13):\n",
        "        for j in range(3):\n",
        "            if gabarito[i] == aposta[i][j]:\n",
        "                pontos += 1\n",
        "    return pontos\n",
        "\n",
        "gabarito = [1, 2, 3, 1, 2, 3, 1, 2, 3, 1, 2, 3, 1]\n",
        "aposta = [\n",
        "    [1, 0, 0], [0, 1, 0], [0, 0, 1],\n",
        "    [1, 0, 0], [0, 1, 0], [0, 0, 1],\n",
        "    [1, 0, 0], [0, 1, 0], [0, 0, 1],\n",
        "    [1, 0, 0], [0, 1, 0], [0, 0, 1],\n",
        "    [1, 0, 0]\n",
        "]\n",
        "\n",
        "pontos = calcular_pontos(gabarito, aposta)\n",
        "print(\"Número de pontos obtidos:\", pontos)\n"
      ]
    },
    {
      "cell_type": "markdown",
      "metadata": {
        "id": "c3PA6hREQT9D"
      },
      "source": [
        "39\n",
        "\n"
      ]
    },
    {
      "cell_type": "code",
      "execution_count": null,
      "metadata": {
        "colab": {
          "base_uri": "https://localhost:8080/"
        },
        "id": "X6zun8DURRoS",
        "outputId": "8603ed7e-2495-42ed-8f2b-b0dbc85c73f1"
      },
      "outputs": [
        {
          "name": "stdout",
          "output_type": "stream",
          "text": [
            "Digite o primeiro número: 2\n",
            "Digite o segundo número: 2\n",
            "Escolha a operação (+, -, *, /): +\n",
            "Resultado: 4.0\n"
          ]
        }
      ],
      "source": [
        "def somar(a, b):\n",
        "    return a + b\n",
        "\n",
        "def subtrair(a, b):\n",
        "    return a - b\n",
        "\n",
        "def multiplicar(a, b):\n",
        "    return a * b\n",
        "\n",
        "def dividir(a, b):\n",
        "    if b == 0:\n",
        "        return \"Erro: Divisão por zero!\"\n",
        "    return a / b\n",
        "\n",
        "def calculadora():\n",
        "    a = float(input(\"Digite o primeiro número: \"))\n",
        "    b = float(input(\"Digite o segundo número: \"))\n",
        "    operacao = input(\"Escolha a operação (+, -, *, /): \")\n",
        "\n",
        "    if operacao == \"+\":\n",
        "        print(\"Resultado:\", somar(a, b))\n",
        "    elif operacao == \"-\":\n",
        "        print(\"Resultado:\", subtrair(a, b))\n",
        "    elif operacao == \"*\":\n",
        "        print(\"Resultado:\", multiplicar(a, b))\n",
        "    elif operacao == \"/\":\n",
        "        print(\"Resultado:\", dividir(a, b))\n",
        "    else:\n",
        "        print(\"Operação inválida!\")\n",
        "\n",
        "calculadora()\n"
      ]
    },
    {
      "cell_type": "markdown",
      "metadata": {
        "id": "eSWtobntRkJZ"
      },
      "source": [
        "40"
      ]
    },
    {
      "cell_type": "code",
      "execution_count": null,
      "metadata": {
        "colab": {
          "base_uri": "https://localhost:8080/"
        },
        "id": "5ohjDE04Rm_R",
        "outputId": "19860f03-d811-4075-f452-68649dfefd17"
      },
      "outputs": [
        {
          "name": "stdout",
          "output_type": "stream",
          "text": [
            "Digite o primeiro número: 4\n",
            "Digite o segundo número: 5\n",
            "Resultado da multiplicação por somas: 20\n"
          ]
        }
      ],
      "source": [
        "def multiplicacao_por_somas(a, b):\n",
        "    resultado = 0\n",
        "    for _ in range(abs(b)):\n",
        "        resultado += a\n",
        "    if b < 0:\n",
        "        resultado = -resultado\n",
        "    return resultado\n",
        "\n",
        "a = int(input(\"Digite o primeiro número: \"))\n",
        "b = int(input(\"Digite o segundo número: \"))\n",
        "print(\"Resultado da multiplicação por somas:\", multiplicacao_por_somas(a, b))\n"
      ]
    },
    {
      "cell_type": "markdown",
      "metadata": {
        "id": "-Hu5RoRiT7UH"
      },
      "source": [
        "41"
      ]
    },
    {
      "cell_type": "code",
      "execution_count": null,
      "metadata": {
        "colab": {
          "base_uri": "https://localhost:8080/"
        },
        "id": "vOfOFaUHT8Uv",
        "outputId": "7a9c935c-7066-49fb-d5b3-cc1629e26f33"
      },
      "outputs": [
        {
          "name": "stdout",
          "output_type": "stream",
          "text": [
            "Digite a distância percorrida (em metros): 40\n",
            "Digite o tempo gasto (em segundos): 4\n",
            "Velocidade média: 10.0 m/s\n"
          ]
        }
      ],
      "source": [
        "def velocidade_media(distancia, tempo):\n",
        "    if tempo == 0:\n",
        "        return \"Erro: Tempo não pode ser zero!\"\n",
        "    return distancia / tempo\n",
        "\n",
        "distancia = float(input(\"Digite a distância percorrida (em metros): \"))\n",
        "tempo = float(input(\"Digite o tempo gasto (em segundos): \"))\n",
        "print(\"Velocidade média:\", velocidade_media(distancia, tempo), \"m/s\")\n"
      ]
    },
    {
      "cell_type": "markdown",
      "metadata": {
        "id": "xXlsvzSFURp3"
      },
      "source": [
        "42"
      ]
    },
    {
      "cell_type": "code",
      "execution_count": null,
      "metadata": {
        "colab": {
          "base_uri": "https://localhost:8080/"
        },
        "id": "GfVPRiy1USeX",
        "outputId": "c81884c8-319e-4bc8-a7da-1691de079f1b"
      },
      "outputs": [
        {
          "output_type": "stream",
          "name": "stdout",
          "text": [
            "Digite a distância percorrida (em metros): 50\n",
            "Digite o tempo gasto (em segundos): 4\n",
            "Velocidade média: 12.5 m/s\n"
          ]
        }
      ],
      "source": [
        "def divisao(a, b):\n",
        "    if b == 0:\n",
        "        return \"Erro: Divisão por zero!\"\n",
        "    return a / b\n",
        "\n",
        "def velocidade_media(distancia, tempo):\n",
        "    return divisao(distancia, tempo)\n",
        "\n",
        "distancia = float(input(\"Digite a distância percorrida (em metros): \"))\n",
        "tempo = float(input(\"Digite o tempo gasto (em segundos): \"))\n",
        "print(\"Velocidade média:\", velocidade_media(distancia, tempo),\"m/s\")\n"
      ]
    },
    {
      "cell_type": "markdown",
      "metadata": {
        "id": "nGoq8YqiUdOW"
      },
      "source": [
        "43"
      ]
    },
    {
      "cell_type": "code",
      "execution_count": null,
      "metadata": {
        "colab": {
          "base_uri": "https://localhost:8080/"
        },
        "id": "Cq-msSwDUeqv",
        "outputId": "6f04e368-6aa2-4e50-e35d-3dba20d57bbf"
      },
      "outputs": [
        {
          "name": "stdout",
          "output_type": "stream",
          "text": [
            "Digite um número inteiro: 2\n",
            "Crescente: 2\n",
            "Decrescente: 2\n",
            "Reverso: 2\n"
          ]
        }
      ],
      "source": [
        "def organizar_numero(num):\n",
        "    num_str = str(num)\n",
        "    crescente = ''.join(sorted(num_str))\n",
        "    decrescente = ''.join(sorted(num_str, reverse=True))\n",
        "    reverso = num_str[::-1]\n",
        "\n",
        "    return crescente, decrescente, reverso\n",
        "\n",
        "numero = int(input(\"Digite um número inteiro: \"))\n",
        "crescente, decrescente, reverso = organizar_numero(numero)\n",
        "print(f\"Crescente: {crescente}\")\n",
        "print(f\"Decrescente: {decrescente}\")\n",
        "print(f\"Reverso: {reverso}\")\n"
      ]
    },
    {
      "cell_type": "markdown",
      "metadata": {
        "id": "KY9J_jruUvR5"
      },
      "source": [
        "44"
      ]
    },
    {
      "cell_type": "code",
      "execution_count": null,
      "metadata": {
        "colab": {
          "base_uri": "https://localhost:8080/"
        },
        "id": "KWawiQ0LUw5-",
        "outputId": "cfd4792b-1015-4809-945e-ae969c5baccf"
      },
      "outputs": [
        {
          "name": "stdout",
          "output_type": "stream",
          "text": [
            "Digite a hora (formato 24h): 12\n",
            "Digite os minutos: 20\n",
            "Hora no formato 12h: 12:20 P.M.\n"
          ]
        }
      ],
      "source": [
        "def converter_24h_para_12h(hora, minuto):\n",
        "    if hora == 0:\n",
        "        return f\"{12}:{minuto:02d} A.M.\"\n",
        "    elif hora == 12:\n",
        "        return f\"{12}:{minuto:02d} P.M.\"\n",
        "    elif hora < 12:\n",
        "        return f\"{hora}:{minuto:02d} A.M.\"\n",
        "    else:\n",
        "        return f\"{hora-12}:{minuto:02d} P.M.\"\n",
        "\n",
        "hora = int(input(\"Digite a hora (formato 24h): \"))\n",
        "minuto = int(input(\"Digite os minutos: \"))\n",
        "print(\"Hora no formato 12h:\", converter_24h_para_12h(hora, minuto))\n"
      ]
    },
    {
      "cell_type": "markdown",
      "metadata": {
        "id": "FOTFeq5JU8em"
      },
      "source": [
        "45"
      ]
    },
    {
      "cell_type": "code",
      "execution_count": null,
      "metadata": {
        "colab": {
          "base_uri": "https://localhost:8080/"
        },
        "id": "xnaaa4BtU9YG",
        "outputId": "742291b6-94d3-4210-9554-be99f5451e32"
      },
      "outputs": [
        {
          "name": "stdout",
          "output_type": "stream",
          "text": [
            "Digite a data (DD/MM/AAAA): 12/12/2012\n",
            "12 de dezembro de 2012\n"
          ]
        }
      ],
      "source": [
        "def data_com_mes_por_extenso(data):\n",
        "    meses = [\"janeiro\", \"fevereiro\", \"março\", \"abril\", \"maio\", \"junho\",\n",
        "             \"julho\", \"agosto\", \"setembro\", \"outubro\", \"novembro\", \"dezembro\"]\n",
        "\n",
        "    dia, mes, ano = data.split(\"/\")\n",
        "    mes = int(mes) - 1  # Ajuste para a lista de meses (começa em 0)\n",
        "\n",
        "    if 1 <= int(dia) <= 31 and 1 <= int(mes) + 1 <= 12 and int(ano) > 0:\n",
        "        return f\"{int(dia)} de {meses[mes]} de {ano}\"\n",
        "    else:\n",
        "        return \"Data inválida\"\n",
        "\n",
        "data = input(\"Digite a data (DD/MM/AAAA): \")\n",
        "print(data_com_mes_por_extenso(data))\n"
      ]
    },
    {
      "cell_type": "markdown",
      "metadata": {
        "id": "jH-lNxWCEGJT"
      },
      "source": [
        "lista-Aruane"
      ]
    },
    {
      "cell_type": "markdown",
      "metadata": {
        "id": "OgzrEsCBE1L_"
      },
      "source": [
        "19"
      ]
    },
    {
      "cell_type": "code",
      "execution_count": null,
      "metadata": {
        "colab": {
          "base_uri": "https://localhost:8080/"
        },
        "id": "6WLmxQtwEPNS",
        "outputId": "f304717d-5e5d-440e-e58f-913db4ff42ef"
      },
      "outputs": [
        {
          "name": "stdout",
          "output_type": "stream",
          "text": [
            "Matriz 2x2:\n",
            "[1, 2]\n",
            "[3, 4]\n"
          ]
        }
      ],
      "source": [
        "matriz = [[1, 2],\n",
        "          [3, 4]]\n",
        "\n",
        "print(\"Matriz 2x2:\")\n",
        "for linha in matriz:\n",
        "    print(linha)\n"
      ]
    },
    {
      "cell_type": "markdown",
      "metadata": {
        "id": "KJX_pGVOEzqN"
      },
      "source": []
    },
    {
      "cell_type": "markdown",
      "metadata": {
        "id": "sDmSindSFKHn"
      },
      "source": [
        "20"
      ]
    },
    {
      "cell_type": "code",
      "execution_count": null,
      "metadata": {
        "colab": {
          "background_save": true,
          "base_uri": "https://localhost:8080/"
        },
        "id": "vtiLWIg2FZGx",
        "outputId": "3eadb2aa-29e9-450a-85a8-d7030fbe3764"
      },
      "outputs": [
        {
          "output_type": "stream",
          "name": "stdout",
          "text": [
            "Digite os elementos da matriz 3x3:\n"
          ]
        }
      ],
      "source": [
        "matriz = []\n",
        "\n",
        "print(\"Digite os elementos da matriz 3x3:\")\n",
        "\n",
        "for i in range(3):\n",
        "    linha = []\n",
        "    for j in range(3):\n",
        "        elemento = int(input(f\"Elemento [{i}][{j}]: \"))\n",
        "        linha.append(elemento)\n",
        "    matriz.append(linha)\n",
        "\n",
        "print(\"Matriz 3x3 formatada:\")\n",
        "for linha in matriz:\n",
        "    print(linha)\n"
      ]
    },
    {
      "cell_type": "markdown",
      "metadata": {
        "id": "7PI1UJB1FhN1"
      },
      "source": [
        "21"
      ]
    },
    {
      "cell_type": "code",
      "source": [
        "matriz1 = []\n",
        "matriz2 = []\n",
        "resultado = []\n",
        "\n",
        "print(\"Digite os elementos da primeira matriz 2x2:\")\n",
        "for i in range(2):\n",
        "    linha = []\n",
        "    for j in range(2):\n",
        "        valor = int(input(f\"Matriz1[{i}][{j}]: \"))\n",
        "        linha.append(valor)\n",
        "    matriz1.append(linha)\n",
        "\n",
        "print(\"Digite os elementos da segunda matriz 2x2:\")\n",
        "for i in range(2):\n",
        "    linha = []\n",
        "    for j in range(2):\n",
        "        valor = int(input(f\"Matriz2[{i}][{j}]: \"))\n",
        "        linha.append(valor)\n",
        "    matriz2.append(linha)\n",
        "\n",
        "\n",
        "for i in range(2):\n",
        "    linha = []\n",
        "    for j in range(2):\n",
        "        soma = matriz1[i][j] + matriz2[i][j]\n",
        "        linha.append(soma)\n",
        "    resultado.append(linha)\n",
        "\n",
        "print(\"Matriz resultante da soma:\")\n",
        "for linha in resultado:\n",
        "    print(linha)\n"
      ],
      "metadata": {
        "colab": {
          "base_uri": "https://localhost:8080/"
        },
        "id": "Op2p9QSx9W6r",
        "outputId": "f9073722-68b1-412d-dff5-a911c15766fb"
      },
      "execution_count": null,
      "outputs": [
        {
          "output_type": "stream",
          "name": "stdout",
          "text": [
            "Digite os elementos da primeira matriz 2x2:\n",
            "Matriz1[0][0]: 2\n",
            "Matriz1[0][1]: 1\n",
            "Matriz1[1][0]: 2\n",
            "Matriz1[1][1]: 3\n",
            "Digite os elementos da segunda matriz 2x2:\n",
            "Matriz2[0][0]: 3\n",
            "Matriz2[0][1]: 4\n",
            "Matriz2[1][0]: 3\n",
            "Matriz2[1][1]: 4\n",
            "Matriz resultante da soma:\n",
            "[5, 5]\n",
            "[5, 7]\n"
          ]
        }
      ]
    },
    {
      "cell_type": "markdown",
      "metadata": {
        "id": "gzrcv38iGbPM"
      },
      "source": [
        "22"
      ]
    },
    {
      "cell_type": "code",
      "execution_count": null,
      "metadata": {
        "id": "WIrNttAQGcLi",
        "colab": {
          "base_uri": "https://localhost:8080/"
        },
        "outputId": "1dea31b1-0564-4ecd-d1ff-9ebdfa9873b5"
      },
      "outputs": [
        {
          "output_type": "stream",
          "name": "stdout",
          "text": [
            "Digite um número: 2\n",
            "O dobro de 2 é 4\n"
          ]
        }
      ],
      "source": [
        "def dobro(numero):\n",
        "    return numero * 2\n",
        "\n",
        "\n",
        "num = int(input(\"Digite um número: \"))\n",
        "print(f\"O dobro de {num} é {dobro(num)}\")\n"
      ]
    },
    {
      "cell_type": "markdown",
      "metadata": {
        "id": "kIitRNHNGhhM"
      },
      "source": [
        "23"
      ]
    },
    {
      "cell_type": "code",
      "execution_count": null,
      "metadata": {
        "id": "_4DGFFnqGiMo",
        "colab": {
          "base_uri": "https://localhost:8080/"
        },
        "outputId": "62554802-f8c3-4086-b3c9-47b543ddb3a9"
      },
      "outputs": [
        {
          "output_type": "stream",
          "name": "stdout",
          "text": [
            "Digite um número: 3\n",
            "O número 3 é Ímpar.\n"
          ]
        }
      ],
      "source": [
        "def par_ou_impar(numero):\n",
        "    if numero % 2 == 0:\n",
        "        return \"Par\"\n",
        "    else:\n",
        "        return \"Ímpar\"\n",
        "\n",
        "\n",
        "num = int(input(\"Digite um número: \"))\n",
        "print(f\"O número {num} é {par_ou_impar(num)}.\")\n"
      ]
    },
    {
      "cell_type": "markdown",
      "metadata": {
        "id": "LFUaVmp9GpsJ"
      },
      "source": [
        "24"
      ]
    },
    {
      "cell_type": "code",
      "execution_count": null,
      "metadata": {
        "id": "dnMk3IckGqge",
        "colab": {
          "base_uri": "https://localhost:8080/"
        },
        "outputId": "f6440719-de34-4ecb-8b22-f371410939cd"
      },
      "outputs": [
        {
          "output_type": "stream",
          "name": "stdout",
          "text": [
            "Soma dos números ímpares: 16\n"
          ]
        }
      ],
      "source": [
        "def soma_impares(lista):\n",
        "    return sum([x for x in lista if x % 2 != 0])\n",
        "\n",
        "\n",
        "numeros = [1, 2, 3, 4, 5, 6, 7]\n",
        "print(f\"Soma dos números ímpares: {soma_impares(numeros)}\")\n"
      ]
    },
    {
      "cell_type": "markdown",
      "metadata": {
        "id": "m_5ZH2EtGyZe"
      },
      "source": [
        "25"
      ]
    },
    {
      "cell_type": "code",
      "execution_count": null,
      "metadata": {
        "id": "Y_IezN_fGzUz",
        "colab": {
          "base_uri": "https://localhost:8080/"
        },
        "outputId": "9d9445b6-f0fa-42fd-d9e6-26eaea660974"
      },
      "outputs": [
        {
          "output_type": "stream",
          "name": "stdout",
          "text": [
            "Digite um número para calcular a raiz quadrada: 12\n",
            "A raiz quadrada de 12.0 é 3.46\n"
          ]
        }
      ],
      "source": [
        "import math\n",
        "\n",
        "numero = float(input(\"Digite um número para calcular a raiz quadrada: \"))\n",
        "raiz = math.sqrt(numero)\n",
        "print(f\"A raiz quadrada de {numero} é {raiz:.2f}\")\n"
      ]
    },
    {
      "cell_type": "markdown",
      "metadata": {
        "id": "98OI6ZGCG5rM"
      },
      "source": [
        "26"
      ]
    },
    {
      "cell_type": "code",
      "execution_count": null,
      "metadata": {
        "id": "TXYr5-YoG6u0",
        "colab": {
          "base_uri": "https://localhost:8080/"
        },
        "outputId": "80250c99-96c1-41c3-9da5-c3ff521fe5c1"
      },
      "outputs": [
        {
          "output_type": "stream",
          "name": "stdout",
          "text": [
            "Digite uma data (dd/mm/aaaa): 12/12/2012\n",
            "O dia da semana é: quarta-feira\n"
          ]
        }
      ],
      "source": [
        "from datetime import datetime\n",
        "\n",
        "data_str = input(\"Digite uma data (dd/mm/aaaa): \")\n",
        "data = datetime.strptime(data_str, \"%d/%m/%Y\")\n",
        "dias_semana = ['segunda-feira', 'terça-feira', 'quarta-feira', 'quinta-feira', 'sexta-feira', 'sábado', 'domingo']\n",
        "print(f\"O dia da semana é: {dias_semana[data.weekday()]}\")\n"
      ]
    },
    {
      "cell_type": "markdown",
      "metadata": {
        "id": "RFhlL0Q-HA_w"
      },
      "source": [
        "27"
      ]
    },
    {
      "cell_type": "code",
      "execution_count": null,
      "metadata": {
        "id": "t8Ms6S6eHB8S",
        "colab": {
          "base_uri": "https://localhost:8080/"
        },
        "outputId": "1d36b03e-14bf-4606-fd92-2bc494fb0683"
      },
      "outputs": [
        {
          "output_type": "stream",
          "name": "stdout",
          "text": [
            "Digite um número: 4\n",
            "Número aleatório entre 1 e 4: 4\n"
          ]
        }
      ],
      "source": [
        "import random\n",
        "\n",
        "limite = int(input(\"Digite um número: \"))\n",
        "aleatorio = random.randint(1, limite)\n",
        "print(f\"Número aleatório entre 1 e {limite}: {aleatorio}\")\n"
      ]
    },
    {
      "cell_type": "markdown",
      "metadata": {
        "id": "iRBIAhJrHF_a"
      },
      "source": [
        "28"
      ]
    },
    {
      "cell_type": "code",
      "execution_count": null,
      "metadata": {
        "id": "liJ0tQTSHHDN",
        "colab": {
          "base_uri": "https://localhost:8080/"
        },
        "outputId": "865c3d5c-bc5b-48e3-b6c7-ccb583fe3104"
      },
      "outputs": [
        {
          "output_type": "stream",
          "name": "stdout",
          "text": [
            "Lista de 5 números aleatórios: [1, 34, 76, 80, 58]\n"
          ]
        }
      ],
      "source": [
        "import random\n",
        "\n",
        "lista_aleatoria = [random.randint(1, 100) for _ in range(5)]\n",
        "print(\"Lista de 5 números aleatórios:\", lista_aleatoria)\n"
      ]
    },
    {
      "cell_type": "markdown",
      "metadata": {
        "id": "uUFqLAWXHN7z"
      },
      "source": [
        "29"
      ]
    },
    {
      "cell_type": "code",
      "execution_count": null,
      "metadata": {
        "id": "rL_sKf58HPSJ",
        "colab": {
          "base_uri": "https://localhost:8080/"
        },
        "outputId": "85829697-16bf-4b35-c653-8bdeec843c37"
      },
      "outputs": [
        {
          "output_type": "stream",
          "name": "stdout",
          "text": [
            "Lançando o dado...\n",
            "Resultado do dado: 2\n"
          ]
        }
      ],
      "source": [
        "import random\n",
        "import time\n",
        "\n",
        "print(\"Lançando o dado...\")\n",
        "time.sleep(2)\n",
        "resultado = random.randint(1, 6)\n",
        "print(f\"Resultado do dado: {resultado}\")\n"
      ]
    },
    {
      "cell_type": "markdown",
      "metadata": {
        "id": "3HTF-rfGHl9I"
      },
      "source": [
        "30"
      ]
    },
    {
      "cell_type": "code",
      "execution_count": null,
      "metadata": {
        "id": "qvwko3WSHnam",
        "colab": {
          "base_uri": "https://localhost:8080/"
        },
        "outputId": "5c13609c-b344-4cc8-e87d-30a26a9c33c0"
      },
      "outputs": [
        {
          "output_type": "stream",
          "name": "stdout",
          "text": [
            "Frase escrita em 'texto.txt'\n"
          ]
        }
      ],
      "source": [
        "with open(\"texto.txt\", \"w\") as arquivo:\n",
        "    arquivo.write(\"Python é incrível!\")\n",
        "print(\"Frase escrita em 'texto.txt'\")\n"
      ]
    },
    {
      "cell_type": "markdown",
      "metadata": {
        "id": "0bGG5aXxHr8h"
      },
      "source": [
        "31"
      ]
    },
    {
      "cell_type": "code",
      "execution_count": null,
      "metadata": {
        "id": "8-tjUJdqHsu4",
        "colab": {
          "base_uri": "https://localhost:8080/"
        },
        "outputId": "cfed0554-6caf-4173-b815-366560c288be"
      },
      "outputs": [
        {
          "output_type": "stream",
          "name": "stdout",
          "text": [
            "Conteúdo do arquivo:\n",
            "Python é incrível!\n"
          ]
        }
      ],
      "source": [
        "try:\n",
        "    with open(\"texto.txt\", \"r\") as arquivo:\n",
        "        conteudo = arquivo.read()\n",
        "    print(\"Conteúdo do arquivo:\")\n",
        "    print(conteudo)\n",
        "except FileNotFoundError:\n",
        "    print(\"O arquivo 'texto.txt' não foi encontrado.\")\n"
      ]
    },
    {
      "cell_type": "markdown",
      "metadata": {
        "id": "SL0lWBKpHyaL"
      },
      "source": [
        "32"
      ]
    },
    {
      "cell_type": "code",
      "execution_count": null,
      "metadata": {
        "id": "3loGdCb0H0nc",
        "colab": {
          "base_uri": "https://localhost:8080/"
        },
        "outputId": "9c372a31-4646-47e9-9ea3-961d7e16ab28"
      },
      "outputs": [
        {
          "output_type": "stream",
          "name": "stdout",
          "text": [
            "Digite o nome: rafa\n",
            "Digite o telefone: 1123458709\n",
            "Contato salvo em 'contatos.txt'\n"
          ]
        }
      ],
      "source": [
        "nome = input(\"Digite o nome: \")\n",
        "telefone = input(\"Digite o telefone: \")\n",
        "\n",
        "with open(\"contatos.txt\", \"a\") as arquivo:\n",
        "    arquivo.write(f\"{nome} - {telefone}\\n\")\n",
        "\n",
        "print(\"Contato salvo em 'contatos.txt'\")\n"
      ]
    },
    {
      "cell_type": "markdown",
      "metadata": {
        "id": "5dnoogyAH5DK"
      },
      "source": [
        "33"
      ]
    },
    {
      "cell_type": "code",
      "execution_count": null,
      "metadata": {
        "id": "ARt0WlNdH8eq",
        "colab": {
          "base_uri": "https://localhost:8080/"
        },
        "outputId": "27b3507c-867d-4439-9414-1fe35a615cc9"
      },
      "outputs": [
        {
          "output_type": "stream",
          "name": "stdout",
          "text": [
            "Digite um número para dividir 100: 50\n",
            "Resultado: 2.0\n"
          ]
        }
      ],
      "source": [
        "try:\n",
        "    numero = float(input(\"Digite um número para dividir 100: \"))\n",
        "    resultado = 100 / numero\n",
        "    print(f\"Resultado: {resultado}\")\n",
        "except ZeroDivisionError:\n",
        "    print(\"Erro: divisão por zero não é permitida.\")\n"
      ]
    },
    {
      "cell_type": "markdown",
      "metadata": {
        "id": "AHrUYm6GIDFj"
      },
      "source": [
        "34"
      ]
    },
    {
      "cell_type": "code",
      "execution_count": null,
      "metadata": {
        "id": "3gSZnZ28ID8q",
        "colab": {
          "base_uri": "https://localhost:8080/"
        },
        "outputId": "25db1053-5e41-4e57-f495-220a48f78ac5"
      },
      "outputs": [
        {
          "output_type": "stream",
          "name": "stdout",
          "text": [
            "Digite um número: 20\n",
            "Você digitou o número 20.0\n"
          ]
        }
      ],
      "source": [
        "try:\n",
        "    numero = float(input(\"Digite um número: \"))\n",
        "    print(f\"Você digitou o número {numero}\")\n",
        "except ValueError:\n",
        "    print(\"Erro: você digitou algo que não é um número.\")\n"
      ]
    },
    {
      "cell_type": "markdown",
      "metadata": {
        "id": "BlRuF6kcIIDM"
      },
      "source": [
        "35"
      ]
    },
    {
      "cell_type": "code",
      "execution_count": null,
      "metadata": {
        "id": "mawHj3jkIJGN",
        "colab": {
          "base_uri": "https://localhost:8080/"
        },
        "outputId": "45c488cb-2311-4fee-814b-3d28c6879b95"
      },
      "outputs": [
        {
          "output_type": "stream",
          "name": "stdout",
          "text": [
            "Digite um número inteiro: 4\n",
            "O quadrado de 4 é 16\n"
          ]
        }
      ],
      "source": [
        "try:\n",
        "    numero = int(input(\"Digite um número inteiro: \"))\n",
        "    print(f\"O quadrado de {numero} é {numero ** 2}\")\n",
        "except ValueError:\n",
        "    print(\"Erro: entrada inválida. Digite um número inteiro.\")\n"
      ]
    }
  ],
  "metadata": {
    "colab": {
      "provenance": [],
      "authorship_tag": "ABX9TyOIVbfCRWu6OnMVDGwgkb2U",
      "include_colab_link": true
    },
    "kernelspec": {
      "display_name": "Python 3",
      "name": "python3"
    },
    "language_info": {
      "name": "python"
    }
  },
  "nbformat": 4,
  "nbformat_minor": 0
}